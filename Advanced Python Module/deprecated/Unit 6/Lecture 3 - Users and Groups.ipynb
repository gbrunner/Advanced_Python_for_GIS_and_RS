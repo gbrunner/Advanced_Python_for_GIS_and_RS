{
 "cells": [
  {
   "cell_type": "markdown",
   "metadata": {},
   "source": [
    "## Imports"
   ]
  },
  {
   "cell_type": "code",
   "execution_count": null,
   "metadata": {},
   "outputs": [],
   "source": [
    "from IPython.display import display\n",
    "from arcgis.gis import *"
   ]
  },
  {
   "cell_type": "code",
   "execution_count": null,
   "metadata": {},
   "outputs": [],
   "source": [
    "gis = GIS(\"https://slustl.maps.arcgis.com/home\", \"gregbrunner_slugis\")"
   ]
  },
  {
   "cell_type": "markdown",
   "metadata": {},
   "source": [
    "## Search AGOL for myself"
   ]
  },
  {
   "cell_type": "code",
   "execution_count": null,
   "metadata": {},
   "outputs": [],
   "source": [
    "gis.users.search(\"Greg\")"
   ]
  },
  {
   "cell_type": "code",
   "execution_count": null,
   "metadata": {},
   "outputs": [],
   "source": [
    "gis.users.search(\"Gregory\")"
   ]
  },
  {
   "cell_type": "code",
   "execution_count": null,
   "metadata": {
    "scrolled": true
   },
   "outputs": [],
   "source": [
    "gregory = gis.users.search('gregory')[0]\n",
    "gregory"
   ]
  },
  {
   "cell_type": "code",
   "execution_count": null,
   "metadata": {},
   "outputs": [],
   "source": [
    "gregory.update(thumbnail='me.gif')\n",
    "#gregory.update(thumbnail='me.gif')\n",
    "#gregory.update(thumbnail='batman.png')\n",
    "#gregory.update(thumbnail='Oklahoma_City_Thunder.png')"
   ]
  },
  {
   "cell_type": "code",
   "execution_count": null,
   "metadata": {},
   "outputs": [],
   "source": [
    "gregory"
   ]
  },
  {
   "cell_type": "markdown",
   "metadata": {},
   "source": [
    "## Searching for Content"
   ]
  },
  {
   "cell_type": "code",
   "execution_count": null,
   "metadata": {},
   "outputs": [],
   "source": [
    "gis.content.search(\"acled\")"
   ]
  },
  {
   "cell_type": "code",
   "execution_count": null,
   "metadata": {},
   "outputs": [],
   "source": [
    "## Adding search parameters\n",
    "gis.content.search(\"acled\", outside_org=False, max_items=3, item_type=\"Web Map\")"
   ]
  },
  {
   "cell_type": "code",
   "execution_count": null,
   "metadata": {},
   "outputs": [],
   "source": [
    "items = gis.content.search(\"acled\", outside_org=False, max_items=3, item_type=\"Web Map\")\n",
    "items[0]\n"
   ]
  },
  {
   "cell_type": "markdown",
   "metadata": {},
   "source": [
    "## Searching for Groups"
   ]
  },
  {
   "cell_type": "code",
   "execution_count": null,
   "metadata": {},
   "outputs": [],
   "source": [
    "urban_groups = gis.groups.search('title:urban', max_groups=15)\n",
    "urban_groups"
   ]
  },
  {
   "cell_type": "code",
   "execution_count": null,
   "metadata": {},
   "outputs": [],
   "source": [
    "greg_groups = gis.groups.search('GREGORY', max_groups=15)\n",
    "greg_groups"
   ]
  },
  {
   "cell_type": "markdown",
   "metadata": {},
   "source": [
    "## Properties of a Group"
   ]
  },
  {
   "cell_type": "code",
   "execution_count": null,
   "metadata": {},
   "outputs": [],
   "source": [
    "greg_groups[0]"
   ]
  },
  {
   "cell_type": "code",
   "execution_count": null,
   "metadata": {},
   "outputs": [],
   "source": [
    "group1 = greg_groups[0]\n",
    "group1.access"
   ]
  },
  {
   "cell_type": "code",
   "execution_count": null,
   "metadata": {},
   "outputs": [],
   "source": [
    "print(group1.groupid)"
   ]
  },
  {
   "cell_type": "code",
   "execution_count": null,
   "metadata": {},
   "outputs": [],
   "source": [
    "print(group1.isInvitationOnly)"
   ]
  },
  {
   "cell_type": "code",
   "execution_count": null,
   "metadata": {},
   "outputs": [],
   "source": [
    "print(group1.owner)"
   ]
  },
  {
   "cell_type": "markdown",
   "metadata": {},
   "source": [
    "## Creating a Groups"
   ]
  },
  {
   "cell_type": "code",
   "execution_count": null,
   "metadata": {},
   "outputs": [],
   "source": [
    "gis.groups.create(title=\"LECTURE_DEMO\", access='org', \n",
    "                  tags='Web Maps, Demos', \n",
    "                  description=\"Greg's Demo Group\")#,thumbnail=\"me.gif\")"
   ]
  },
  {
   "cell_type": "markdown",
   "metadata": {},
   "source": [
    "## Adding Content to a Group"
   ]
  },
  {
   "cell_type": "code",
   "execution_count": null,
   "metadata": {},
   "outputs": [],
   "source": [
    "acled_item = gis.content.get('7917c83d748a48d5922daea3e1d88033')\n",
    "acled_item"
   ]
  },
  {
   "cell_type": "code",
   "execution_count": null,
   "metadata": {},
   "outputs": [],
   "source": [
    "acled_item.share(groups='edffec7c7a154d7294611b37d8dd55c2')"
   ]
  },
  {
   "cell_type": "code",
   "execution_count": null,
   "metadata": {},
   "outputs": [],
   "source": [
    "acled_item.access"
   ]
  },
  {
   "cell_type": "markdown",
   "metadata": {},
   "source": [
    "## Adding Users to a Group"
   ]
  },
  {
   "cell_type": "code",
   "execution_count": null,
   "metadata": {},
   "outputs": [],
   "source": [
    "sample_group = gis.groups.get('edffec7c7a154d7294611b37d8dd55c2')\n",
    "sample_group"
   ]
  },
  {
   "cell_type": "code",
   "execution_count": null,
   "metadata": {},
   "outputs": [],
   "source": [
    "sample_group.add_users('cuaycongy_SLUSTL')"
   ]
  },
  {
   "cell_type": "markdown",
   "metadata": {},
   "source": [
    "## For more, [do the following tutorial!](https://developers.arcgis.com/python/guide/accessing-and-managing-groups/)"
   ]
  },
  {
   "cell_type": "markdown",
   "metadata": {},
   "source": [
    "# Let's Get Back to Talking about Me :)"
   ]
  },
  {
   "cell_type": "code",
   "execution_count": 2,
   "metadata": {},
   "outputs": [],
   "source": [
    "from IPython.display import display\n",
    "from arcgis.gis import *\n",
    "\n",
    "gis = GIS(\"https://slustl.maps.arcgis.com/home\", \n",
    "          \"gregbrunner_slugis\")"
   ]
  },
  {
   "cell_type": "code",
   "execution_count": 3,
   "metadata": {},
   "outputs": [
    {
     "data": {
      "text/html": [
       "<div class=\"9item_container\" style=\"height: auto; overflow: hidden; border: 1px solid #cfcfcf; border-radius: 2px; background: #f6fafa; line-height: 1.21429em; padding: 10px;\">\n",
       "                    <div class=\"item_left\" style=\"width: 210px; float: left;\">\n",
       "                       <a href='https://SLUSTL.maps.arcgis.com/home/user.html?user=gregbrunner_slugis' target='_blank'>\n",
       "                        <img src='data:image/png;base64,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' width='200' height='133' class=\"itemThumbnail\">\n",
       "                       </a>\n",
       "                    </div>\n",
       "\n",
       "                    <div class=\"item_right\" style=\"float: none; width: auto; overflow: hidden;\">\n",
       "                        <a href='https://SLUSTL.maps.arcgis.com/home/user.html?user=gregbrunner_slugis' target='_blank'><b>Gregory Brunner</b>\n",
       "                        </a>\n",
       "                        <br/><br/><b>Bio</b>: Adjunct Professor in the Department of Earth and Atmospheric Science.\n",
       "                        <br/><b>First Name</b>: Gregory\n",
       "                        <br/><b>Last Name</b>: Brunner\n",
       "                        <br/><b>Username</b>: gregbrunner_slugis\n",
       "                        <br/><b>Joined</b>: January 05, 2018\n",
       "\n",
       "                    </div>\n",
       "                </div>\n",
       "                "
      ],
      "text/plain": [
       "<User username:gregbrunner_slugis>"
      ]
     },
     "execution_count": 3,
     "metadata": {},
     "output_type": "execute_result"
    }
   ],
   "source": [
    "gis.users.me"
   ]
  },
  {
   "cell_type": "code",
   "execution_count": 4,
   "metadata": {},
   "outputs": [],
   "source": [
    "me = gis.users.me"
   ]
  },
  {
   "cell_type": "code",
   "execution_count": 8,
   "metadata": {},
   "outputs": [
    {
     "data": {
      "text/plain": [
       "[<Item title:\"STL_Crime\" type:Service Definition owner:gregbrunner_slugis>,\n",
       " <Item title:\"STL_Crime\" type:Feature Layer Collection owner:gregbrunner_slugis>,\n",
       " <Item title:\"my_acled_demo\" type:Service Definition owner:gregbrunner_slugis>,\n",
       " <Item title:\"my_acled_demo\" type:Feature Layer Collection owner:gregbrunner_slugis>,\n",
       " <Item title:\"Acled map by Greg\" type:Web Map owner:gregbrunner_slugis>,\n",
       " <Item title:\"Gregs ACLED Webmap\" type:Web Map owner:gregbrunner_slugis>,\n",
       " <Item title:\"gregs flashy acled webmap\" type:Web Map owner:gregbrunner_slugis>,\n",
       " <Item title:\"my_acled_demo_pred_surface_gjb\" type:Feature Layer Collection owner:gregbrunner_slugis>,\n",
       " <Item title:\"gregs flashy acled webapp\" type:Web Mapping Application owner:gregbrunner_slugis>,\n",
       " <Item title:\"second acled map gjb\" type:Web Map owner:gregbrunner_slugis>,\n",
       " <Item title:\"ACLED\" type:Web Mapping Application owner:gregbrunner_slugis>,\n",
       " <Item title:\"STL Crime - Top 3\" type:Web Map owner:gregbrunner_slugis>,\n",
       " <Item title:\"d32269aa31f846f98e5f5749f7301138\" type:File Geodatabase owner:gregbrunner_slugis>,\n",
       " <Item title:\"d32269aa31f846f98e5f5749f7301138\" type:Feature Layer Collection owner:gregbrunner_slugis>,\n",
       " <Item title:\"California Traffic Volumes\" type:Web Map owner:gregbrunner_slugis>,\n",
       " <Item title:\"Finland Boundaries\" type:Web Map owner:gregbrunner_slugis>,\n",
       " <Item title:\"234b0b688b914e8ca929f363c0e4dd9e\" type:File Geodatabase owner:gregbrunner_slugis>,\n",
       " <Item title:\"234b0b688b914e8ca929f363c0e4dd9e\" type:Feature Layer Collection owner:gregbrunner_slugis>,\n",
       " <Item title:\"CA county population\" type:File Geodatabase owner:gregbrunner_slugis>,\n",
       " <Item title:\"CA county population\" type:Feature Layer Collection owner:gregbrunner_slugis>,\n",
       " <Item title:\"CA county population\" type:File Geodatabase owner:gregbrunner_slugis>,\n",
       " <Item title:\"8d3a872960f645c7ae01d1a751b0c1eb\" type:File Geodatabase owner:gregbrunner_slugis>,\n",
       " <Item title:\"8d3a872960f645c7ae01d1a751b0c1eb\" type:Feature Layer Collection owner:gregbrunner_slugis>,\n",
       " <Item title:\"Buffer_of_significant_month\" type:Feature Layer Collection owner:gregbrunner_slugis>,\n",
       " <Item title:\"Enriched_Buffer_of_significant_month\" type:Feature Layer Collection owner:gregbrunner_slugis>,\n",
       " <Item title:\"Global Earthquakes\" type:Web Map owner:gregbrunner_slugis>,\n",
       " <Item title:\"OKC_Thunder_Offseason_Moves\" type:CSV owner:gregbrunner_slugis>,\n",
       " <Item title:\"OKC_Thunder_Offseason_Moves\" type:Feature Layer Collection owner:gregbrunner_slugis>,\n",
       " <Item title:\"ACLED Simple Renderer\" type:Web Map owner:gregbrunner_slugis>,\n",
       " <Item title:\"ACLED Classed Size Breaks\" type:Web Map owner:gregbrunner_slugis>,\n",
       " <Item title:\"Thunder_Traded_To\" type:CSV owner:gregbrunner_slugis>,\n",
       " <Item title:\"Thunder_Traded_To\" type:Feature Layer Collection owner:gregbrunner_slugis>,\n",
       " <Item title:\"Thunder_Traded_From\" type:CSV owner:gregbrunner_slugis>,\n",
       " <Item title:\"Thunder_Traded_From\" type:Feature Layer Collection owner:gregbrunner_slugis>,\n",
       " <Item title:\"OKC Thunder 2017 Transactions\" type:Web Map owner:gregbrunner_slugis>,\n",
       " <Item title:\"Lecture 1 - Demographic Webmap\" type:Web Map owner:gregbrunner_slugis>,\n",
       " <Item title:\"Lecture 2 - Geocoding\" type:Web Map owner:gregbrunner_slugis>,\n",
       " <Item title:\"chennai-rainfall\" type:CSV owner:gregbrunner_slugis>,\n",
       " <Item title:\"chennai-rainfall\" type:Feature Layer Collection owner:gregbrunner_slugis>,\n",
       " <Item title:\"Lecture 2 - Geocoding and Publish\" type:Web Map owner:gregbrunner_slugis>]"
      ]
     },
     "execution_count": 8,
     "metadata": {},
     "output_type": "execute_result"
    }
   ],
   "source": [
    "me.items()"
   ]
  },
  {
   "cell_type": "code",
   "execution_count": 14,
   "metadata": {},
   "outputs": [
    {
     "data": {
      "text/plain": [
       "[<Item title:\"STL_Crime\" type:Service Definition owner:gregbrunner_slugis>,\n",
       " <Item title:\"STL_Crime\" type:Feature Layer Collection owner:gregbrunner_slugis>,\n",
       " <Item title:\"my_acled_demo\" type:Service Definition owner:gregbrunner_slugis>,\n",
       " <Item title:\"my_acled_demo\" type:Feature Layer Collection owner:gregbrunner_slugis>,\n",
       " <Item title:\"Acled map by Greg\" type:Web Map owner:gregbrunner_slugis>,\n",
       " <Item title:\"Gregs ACLED Webmap\" type:Web Map owner:gregbrunner_slugis>,\n",
       " <Item title:\"gregs flashy acled webmap\" type:Web Map owner:gregbrunner_slugis>,\n",
       " <Item title:\"my_acled_demo_pred_surface_gjb\" type:Feature Layer Collection owner:gregbrunner_slugis>,\n",
       " <Item title:\"gregs flashy acled webapp\" type:Web Mapping Application owner:gregbrunner_slugis>,\n",
       " <Item title:\"second acled map gjb\" type:Web Map owner:gregbrunner_slugis>,\n",
       " <Item title:\"ACLED\" type:Web Mapping Application owner:gregbrunner_slugis>,\n",
       " <Item title:\"STL Crime - Top 3\" type:Web Map owner:gregbrunner_slugis>,\n",
       " <Item title:\"d32269aa31f846f98e5f5749f7301138\" type:File Geodatabase owner:gregbrunner_slugis>,\n",
       " <Item title:\"d32269aa31f846f98e5f5749f7301138\" type:Feature Layer Collection owner:gregbrunner_slugis>,\n",
       " <Item title:\"California Traffic Volumes\" type:Web Map owner:gregbrunner_slugis>,\n",
       " <Item title:\"Finland Boundaries\" type:Web Map owner:gregbrunner_slugis>,\n",
       " <Item title:\"234b0b688b914e8ca929f363c0e4dd9e\" type:File Geodatabase owner:gregbrunner_slugis>,\n",
       " <Item title:\"234b0b688b914e8ca929f363c0e4dd9e\" type:Feature Layer Collection owner:gregbrunner_slugis>,\n",
       " <Item title:\"CA county population\" type:File Geodatabase owner:gregbrunner_slugis>,\n",
       " <Item title:\"CA county population\" type:Feature Layer Collection owner:gregbrunner_slugis>,\n",
       " <Item title:\"CA county population\" type:File Geodatabase owner:gregbrunner_slugis>,\n",
       " <Item title:\"8d3a872960f645c7ae01d1a751b0c1eb\" type:File Geodatabase owner:gregbrunner_slugis>,\n",
       " <Item title:\"8d3a872960f645c7ae01d1a751b0c1eb\" type:Feature Layer Collection owner:gregbrunner_slugis>,\n",
       " <Item title:\"Buffer_of_significant_month\" type:Feature Layer Collection owner:gregbrunner_slugis>,\n",
       " <Item title:\"Enriched_Buffer_of_significant_month\" type:Feature Layer Collection owner:gregbrunner_slugis>,\n",
       " <Item title:\"Global Earthquakes\" type:Web Map owner:gregbrunner_slugis>,\n",
       " <Item title:\"OKC_Thunder_Offseason_Moves\" type:CSV owner:gregbrunner_slugis>,\n",
       " <Item title:\"OKC_Thunder_Offseason_Moves\" type:Feature Layer Collection owner:gregbrunner_slugis>,\n",
       " <Item title:\"ACLED Simple Renderer\" type:Web Map owner:gregbrunner_slugis>,\n",
       " <Item title:\"ACLED Classed Size Breaks\" type:Web Map owner:gregbrunner_slugis>,\n",
       " <Item title:\"Thunder_Traded_To\" type:CSV owner:gregbrunner_slugis>,\n",
       " <Item title:\"Thunder_Traded_To\" type:Feature Layer Collection owner:gregbrunner_slugis>,\n",
       " <Item title:\"Thunder_Traded_From\" type:CSV owner:gregbrunner_slugis>,\n",
       " <Item title:\"Thunder_Traded_From\" type:Feature Layer Collection owner:gregbrunner_slugis>,\n",
       " <Item title:\"OKC Thunder 2017 Transactions\" type:Web Map owner:gregbrunner_slugis>,\n",
       " <Item title:\"Lecture 1 - Demographic Webmap\" type:Web Map owner:gregbrunner_slugis>,\n",
       " <Item title:\"Lecture 2 - Geocoding\" type:Web Map owner:gregbrunner_slugis>,\n",
       " <Item title:\"chennai-rainfall\" type:CSV owner:gregbrunner_slugis>,\n",
       " <Item title:\"chennai-rainfall\" type:Feature Layer Collection owner:gregbrunner_slugis>,\n",
       " <Item title:\"Lecture 2 - Geocoding and Publish\" type:Web Map owner:gregbrunner_slugis>]"
      ]
     },
     "execution_count": 14,
     "metadata": {},
     "output_type": "execute_result"
    }
   ],
   "source": [
    "my_items = gis.users.me.items()\n",
    "my_items"
   ]
  },
  {
   "cell_type": "code",
   "execution_count": null,
   "metadata": {},
   "outputs": [],
   "source": [
    "print(my_items[0].name)\n",
    "print(my_items[0].type)"
   ]
  },
  {
   "cell_type": "code",
   "execution_count": 19,
   "metadata": {},
   "outputs": [
    {
     "name": "stdout",
     "output_type": "stream",
     "text": [
      "STL_Crime.sd\n",
      "Service Definition\n",
      "STL_Crime\n",
      "Feature Service\n",
      "my_acled_demo.sd\n",
      "Service Definition\n",
      "my_acled_demo\n",
      "Feature Service\n",
      "None\n",
      "Web Map\n",
      "None\n",
      "Web Map\n",
      "None\n",
      "Web Map\n",
      "my_acled_demo_pred_surface_gjb\n",
      "Feature Service\n",
      "None\n",
      "Web Mapping Application\n",
      "None\n",
      "Web Map\n",
      "None\n",
      "Web Mapping Application\n",
      "None\n",
      "Web Map\n",
      "abc221.zip\n",
      "File Geodatabase\n",
      "None\n",
      "Feature Service\n",
      "None\n",
      "Web Map\n",
      "None\n",
      "Web Map\n",
      "a590ed.zip\n",
      "File Geodatabase\n",
      "None\n",
      "Feature Service\n",
      "aa3e4a.zip\n",
      "File Geodatabase\n",
      "None\n",
      "Feature Service\n",
      "ab4642.zip\n",
      "File Geodatabase\n",
      "ae1486.zip\n",
      "File Geodatabase\n",
      "None\n",
      "Feature Service\n",
      "Buffer_of_significant_month\n",
      "Feature Service\n",
      "Enriched_Buffer_of_significant_month\n",
      "Feature Service\n",
      "None\n",
      "Web Map\n",
      "OKC_Thunder_Offseason_Moves.csv\n",
      "CSV\n",
      "None\n",
      "Feature Service\n",
      "None\n",
      "Web Map\n",
      "None\n",
      "Web Map\n",
      "Thunder_Traded_To.csv\n",
      "CSV\n",
      "None\n",
      "Feature Service\n",
      "Thunder_Traded_From.csv\n",
      "CSV\n",
      "None\n",
      "Feature Service\n",
      "None\n",
      "Web Map\n",
      "None\n",
      "Web Map\n",
      "None\n",
      "Web Map\n",
      "chennai-rainfall.csv\n",
      "CSV\n",
      "None\n",
      "Feature Service\n",
      "None\n",
      "Web Map\n"
     ]
    }
   ],
   "source": [
    "for m in my_items:\n",
    "    print(m.name)\n",
    "    print(m.type)\n"
   ]
  },
  {
   "cell_type": "code",
   "execution_count": 20,
   "metadata": {},
   "outputs": [
    {
     "data": {
      "text/plain": [
       "'org_admin'"
      ]
     },
     "execution_count": 20,
     "metadata": {},
     "output_type": "execute_result"
    }
   ],
   "source": [
    "me.role"
   ]
  },
  {
   "cell_type": "code",
   "execution_count": 21,
   "metadata": {},
   "outputs": [
    {
     "data": {
      "text/plain": [
       "'both'"
      ]
     },
     "execution_count": 21,
     "metadata": {},
     "output_type": "execute_result"
    }
   ],
   "source": [
    "me.esri_access"
   ]
  },
  {
   "cell_type": "code",
   "execution_count": 22,
   "metadata": {},
   "outputs": [
    {
     "data": {
      "text/plain": [
       "'Gregory Brunner'"
      ]
     },
     "execution_count": 22,
     "metadata": {},
     "output_type": "execute_result"
    }
   ],
   "source": [
    "me.fullName"
   ]
  },
  {
   "cell_type": "code",
   "execution_count": 23,
   "metadata": {},
   "outputs": [
    {
     "data": {
      "text/plain": [
       "'Adjunct Professor in the Department of Earth and Atmospheric Science.'"
      ]
     },
     "execution_count": 23,
     "metadata": {},
     "output_type": "execute_result"
    }
   ],
   "source": [
    "me.description"
   ]
  },
  {
   "cell_type": "markdown",
   "metadata": {},
   "source": [
    "## For more information, [look at this tutorial](https://developers.arcgis.com/python/guide/accessing-and-managing-users/)"
   ]
  },
  {
   "cell_type": "code",
   "execution_count": null,
   "metadata": {},
   "outputs": [],
   "source": []
  }
 ],
 "metadata": {
  "kernelspec": {
   "display_name": "Python 3",
   "language": "python",
   "name": "python3"
  },
  "language_info": {
   "codemirror_mode": {
    "name": "ipython",
    "version": 3
   },
   "file_extension": ".py",
   "mimetype": "text/x-python",
   "name": "python",
   "nbconvert_exporter": "python",
   "pygments_lexer": "ipython3",
   "version": "3.6.5"
  },
  "widgets": {
   "state": {
    "f45fb959e95b4b0791e1e500b9cb2345": {
     "views": [
      {
       "cell_index": 27
      }
     ]
    }
   },
   "version": "1.2.0"
  }
 },
 "nbformat": 4,
 "nbformat_minor": 2
}
