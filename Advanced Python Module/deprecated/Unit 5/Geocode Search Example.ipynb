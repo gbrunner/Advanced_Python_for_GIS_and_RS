{
 "cells": [
  {
   "cell_type": "markdown",
   "metadata": {},
   "source": [
    "Famous Daves"
   ]
  },
  {
   "cell_type": "code",
   "execution_count": 3,
   "metadata": {},
   "outputs": [],
   "source": [
    "from arcgis.gis import GIS"
   ]
  },
  {
   "cell_type": "code",
   "execution_count": 4,
   "metadata": {},
   "outputs": [
    {
     "data": {
      "text/plain": [
       "[<Geocoder url:\"https://geocode.arcgis.com/arcgis/rest/services/World/GeocodeServer\">]"
      ]
     },
     "execution_count": 4,
     "metadata": {},
     "output_type": "execute_result"
    }
   ],
   "source": [
    "from arcgis.gis import GIS\n",
    "from arcgis.geocoding import Geocoder, get_geocoders\n",
    "\n",
    "gis = GIS(\"https://slustl.maps.arcgis.com/home\", \"un\", \"pw\")\n",
    "\n",
    "get_geocoders(gis)"
   ]
  },
  {
   "cell_type": "code",
   "execution_count": 6,
   "metadata": {},
   "outputs": [],
   "source": [
    "from arcgis.geocoding import geocode"
   ]
  },
  {
   "cell_type": "code",
   "execution_count": 8,
   "metadata": {},
   "outputs": [],
   "source": [
    "address = \"Quebec Square 7557 E 36th Ave, Denver, CO\"\n",
    "results = geocode(address)"
   ]
  },
  {
   "cell_type": "code",
   "execution_count": 9,
   "metadata": {},
   "outputs": [
    {
     "data": {
      "text/plain": [
       "[{'address': '7557 E 36th Ave, Denver, Colorado, 80238',\n",
       "  'location': {'x': -104.90013972300768, 'y': 39.76745745657561},\n",
       "  'score': 96.25,\n",
       "  'attributes': {'Loc_name': 'World',\n",
       "   'Status': 'M',\n",
       "   'Score': 96.25,\n",
       "   'Match_addr': '7557 E 36th Ave, Denver, Colorado, 80238',\n",
       "   'LongLabel': '7557 E 36th Ave, Denver, CO, 80238, USA',\n",
       "   'ShortLabel': '7557 E 36th Ave',\n",
       "   'Addr_type': 'PointAddress',\n",
       "   'Type': '',\n",
       "   'PlaceName': '',\n",
       "   'Place_addr': '7557 E 36th Ave, Denver, Colorado, 80238',\n",
       "   'Phone': '',\n",
       "   'URL': '',\n",
       "   'Rank': 20,\n",
       "   'AddBldg': '',\n",
       "   'AddNum': '7557',\n",
       "   'AddNumFrom': '',\n",
       "   'AddNumTo': '',\n",
       "   'AddRange': '',\n",
       "   'Side': 'R',\n",
       "   'StPreDir': 'E',\n",
       "   'StPreType': '',\n",
       "   'StName': '36th',\n",
       "   'StType': 'Ave',\n",
       "   'StDir': '',\n",
       "   'BldgType': '',\n",
       "   'BldgName': '',\n",
       "   'LevelType': '',\n",
       "   'LevelName': '',\n",
       "   'UnitType': '',\n",
       "   'UnitName': '',\n",
       "   'SubAddr': '',\n",
       "   'StAddr': '7557 E 36th Ave',\n",
       "   'Block': '',\n",
       "   'Sector': '',\n",
       "   'Nbrhd': 'Stapleton',\n",
       "   'District': '',\n",
       "   'City': 'Denver',\n",
       "   'MetroArea': 'Denver Metro Area',\n",
       "   'Subregion': 'City and County of Denver',\n",
       "   'Region': 'Colorado',\n",
       "   'RegionAbbr': 'CO',\n",
       "   'Territory': '',\n",
       "   'Zone': '',\n",
       "   'Postal': '80238',\n",
       "   'PostalExt': '',\n",
       "   'Country': 'USA',\n",
       "   'LangCode': 'ENG',\n",
       "   'Distance': 0,\n",
       "   'X': -104.90013972300768,\n",
       "   'Y': 39.76745745657561,\n",
       "   'DisplayX': -104.90013,\n",
       "   'DisplayY': 39.76758000000001,\n",
       "   'Xmin': -104.90113000000001,\n",
       "   'Xmax': -104.89913,\n",
       "   'Ymin': 39.76658000000001,\n",
       "   'Ymax': 39.76858000000001,\n",
       "   'ExInfo': 'QUEBEC SQUARE'},\n",
       "  'extent': {'xmin': -104.90113000000001,\n",
       "   'ymin': 39.76658000000001,\n",
       "   'xmax': -104.89913,\n",
       "   'ymax': 39.76858000000001}}]"
      ]
     },
     "execution_count": 9,
     "metadata": {},
     "output_type": "execute_result"
    }
   ],
   "source": [
    "results"
   ]
  },
  {
   "cell_type": "code",
   "execution_count": 10,
   "metadata": {},
   "outputs": [
    {
     "data": {
      "application/vnd.jupyter.widget-view+json": {
       "model_id": "8ede9ae184284de589c9f78439eec2f7",
       "version_major": 2,
       "version_minor": 0
      },
      "text/plain": [
       "MapView(basemaps=['dark-gray', 'dark-gray-vector', 'gray', 'gray-vector', 'hybrid', 'national-geographic', 'oc…"
      ]
     },
     "metadata": {},
     "output_type": "display_data"
    }
   ],
   "source": [
    "map1 = gis.map(adderss)\n",
    "map1"
   ]
  },
  {
   "cell_type": "code",
   "execution_count": 22,
   "metadata": {},
   "outputs": [],
   "source": [
    "res = results[0]\n",
    "restaurants = geocode(None,res['extent'], category=\"Food\", max_locations=100)\n",
    "for restaurant in restaurants:\n",
    "    popup = { \n",
    "    \"title\" : restaurant['address'], \n",
    "    \"content\" : \"Phone: \" + restaurant['attributes']['Phone']\n",
    "    }\n",
    "    map1.draw(restaurant['location'], popup)"
   ]
  },
  {
   "cell_type": "code",
   "execution_count": 19,
   "metadata": {},
   "outputs": [
    {
     "data": {
      "text/plain": [
       "{'address': 'Panda Express',\n",
       " 'location': {'x': -104.90066992339428, 'y': 39.76785993782109},\n",
       " 'score': 100,\n",
       " 'attributes': {'Loc_name': 'World',\n",
       "  'Status': 'T',\n",
       "  'Score': 100,\n",
       "  'Match_addr': 'Panda Express',\n",
       "  'LongLabel': 'Panda Express, 7507 E 36th Ave, Denver, CO, 80238, USA',\n",
       "  'ShortLabel': 'Panda Express',\n",
       "  'Addr_type': 'POI',\n",
       "  'Type': 'Chinese Food',\n",
       "  'PlaceName': 'Panda Express',\n",
       "  'Place_addr': '7507 E 36th Ave, Denver, Colorado, 80238',\n",
       "  'Phone': '(303) 331-8409',\n",
       "  'URL': 'http://www.pandaexpress.com/',\n",
       "  'Rank': 19,\n",
       "  'AddBldg': '',\n",
       "  'AddNum': '7507',\n",
       "  'AddNumFrom': '',\n",
       "  'AddNumTo': '',\n",
       "  'AddRange': '',\n",
       "  'Side': 'R',\n",
       "  'StPreDir': 'E',\n",
       "  'StPreType': '',\n",
       "  'StName': '36th',\n",
       "  'StType': 'Ave',\n",
       "  'StDir': '',\n",
       "  'BldgType': '',\n",
       "  'BldgName': '',\n",
       "  'LevelType': '',\n",
       "  'LevelName': '',\n",
       "  'UnitType': '',\n",
       "  'UnitName': '',\n",
       "  'SubAddr': '',\n",
       "  'StAddr': '7507 E 36th Ave',\n",
       "  'Block': '',\n",
       "  'Sector': '',\n",
       "  'Nbrhd': 'Stapleton',\n",
       "  'District': '',\n",
       "  'City': 'Denver',\n",
       "  'MetroArea': 'Denver Metro Area',\n",
       "  'Subregion': 'City and County of Denver',\n",
       "  'Region': 'Colorado',\n",
       "  'RegionAbbr': 'CO',\n",
       "  'Territory': '',\n",
       "  'Zone': '',\n",
       "  'Postal': '80238',\n",
       "  'PostalExt': '',\n",
       "  'Country': 'USA',\n",
       "  'LangCode': 'ENG',\n",
       "  'Distance': 0,\n",
       "  'X': -104.90066992339428,\n",
       "  'Y': 39.76785993782109,\n",
       "  'DisplayX': -104.90063999999995,\n",
       "  'DisplayY': 39.76777000000004,\n",
       "  'Xmin': -104.90563999999995,\n",
       "  'Xmax': -104.89563999999996,\n",
       "  'Ymin': 39.76277000000004,\n",
       "  'Ymax': 39.772770000000044,\n",
       "  'ExInfo': ''},\n",
       " 'extent': {'xmin': -104.90563999999995,\n",
       "  'ymin': 39.76277000000004,\n",
       "  'xmax': -104.89563999999996,\n",
       "  'ymax': 39.772770000000044}}"
      ]
     },
     "execution_count": 19,
     "metadata": {},
     "output_type": "execute_result"
    }
   ],
   "source": [
    "restaurants[0]"
   ]
  },
  {
   "cell_type": "code",
   "execution_count": null,
   "metadata": {},
   "outputs": [],
   "source": []
  }
 ],
 "metadata": {
  "kernelspec": {
   "display_name": "Python 3",
   "language": "python",
   "name": "python3"
  },
  "language_info": {
   "codemirror_mode": {
    "name": "ipython",
    "version": 3
   },
   "file_extension": ".py",
   "mimetype": "text/x-python",
   "name": "python",
   "nbconvert_exporter": "python",
   "pygments_lexer": "ipython3",
   "version": "3.6.5"
  }
 },
 "nbformat": 4,
 "nbformat_minor": 2
}
