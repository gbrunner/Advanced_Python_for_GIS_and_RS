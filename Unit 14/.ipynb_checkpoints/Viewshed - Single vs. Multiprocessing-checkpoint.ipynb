{
 "cells": [
  {
   "cell_type": "code",
   "execution_count": 1,
   "metadata": {},
   "outputs": [],
   "source": [
    "import arcpy\n",
    "import os\n",
    "import multiprocessing\n",
    "import uuid"
   ]
  },
  {
   "cell_type": "code",
   "execution_count": 2,
   "metadata": {},
   "outputs": [],
   "source": [
    "gdb = r'C:\\Users\\greg6750\\Documents\\IPython Notebooks\\Advanced_Python_for_GIS_and_RS\\Week 13\\ViewLocations.gdb'\n",
    "arcpy.env.workspace = gdb"
   ]
  },
  {
   "cell_type": "code",
   "execution_count": 5,
   "metadata": {},
   "outputs": [],
   "source": [
    "view_locations = [os.path.join(gdb, fc) for fc in arcpy.ListFeatureClasses()]"
   ]
  },
  {
   "cell_type": "code",
   "execution_count": 4,
   "metadata": {},
   "outputs": [],
   "source": [
    "def run_viewshed(in_fc):\n",
    "    out_gdb = r'C:\\Users\\greg6750\\Documents\\IPython Notebooks\\Advanced_Python_for_GIS_and_RS\\Week 13\\results.gdb'\n",
    "    dem = r'C:\\Users\\greg6750\\Downloads\\USGS_NED_13_n48w122_ArcGrid\\grdn48w122_13'\n",
    "    out_fc = os.path.join(out_gdb, in_fc[-5:]+'_'+ uuid.uuid4().hex)\n",
    "    print(out_fc)\n",
    "    arcpy.Viewshed_3d(dem, in_fc, out_fc)"
   ]
  },
  {
   "cell_type": "code",
   "execution_count": null,
   "metadata": {},
   "outputs": [],
   "source": [
    "%timeit -r 1\n",
    "for view in view_locations:\n",
    "    run_viewshed(view)"
   ]
  },
  {
   "cell_type": "code",
   "execution_count": 6,
   "metadata": {},
   "outputs": [],
   "source": [
    "def run_viewshed(processs_list):\n",
    "    #arg = ProcessList.split(',')\n",
    "    #in_fc = arg[0]\n",
    "    in_fc = processs_list\n",
    "    out_gdb = r'C:\\Users\\greg6750\\Documents\\IPython Notebooks\\Advanced_Python_for_GIS_and_RS\\Week 13\\results.gdb'\n",
    "    dem = r'C:\\Users\\greg6750\\Downloads\\USGS_NED_13_n48w122_ArcGrid\\grdn48w122_13'\n",
    "    out_fc = os.path.join(out_gdb, in_fc[-5:]+'_'+ uuid.uuid4().hex)\n",
    "    print(out_fc)\n",
    "    #arcpy.Viewshed_3d(dem, in_fc, out_fc)"
   ]
  },
  {
   "cell_type": "code",
   "execution_count": null,
   "metadata": {},
   "outputs": [],
   "source": [
    "%timeit -r 1\n",
    "\n",
    "jobs = []\n",
    "\n",
    "pool = multiprocessing.Pool()\n",
    "\n",
    "\n",
    "results = pool.map(run_viewshed, view_locations) #, maxtasksperchild=10)\n",
    "\n",
    "pool.close()\n",
    "pool.join()\n"
   ]
  },
  {
   "cell_type": "code",
   "execution_count": null,
   "metadata": {},
   "outputs": [],
   "source": []
  }
 ],
 "metadata": {
  "kernelspec": {
   "display_name": "Python 3",
   "language": "python",
   "name": "python3"
  },
  "language_info": {
   "codemirror_mode": {
    "name": "ipython",
    "version": 3
   },
   "file_extension": ".py",
   "mimetype": "text/x-python",
   "name": "python",
   "nbconvert_exporter": "python",
   "pygments_lexer": "ipython3",
   "version": "3.6.5"
  }
 },
 "nbformat": 4,
 "nbformat_minor": 2
}
