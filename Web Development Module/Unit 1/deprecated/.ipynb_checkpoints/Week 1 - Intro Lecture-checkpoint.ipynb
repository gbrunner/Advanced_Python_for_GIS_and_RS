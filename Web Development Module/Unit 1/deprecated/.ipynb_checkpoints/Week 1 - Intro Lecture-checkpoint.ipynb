{
 "cells": [
  {
   "cell_type": "markdown",
   "metadata": {
    "slideshow": {
     "slide_type": "slide"
    }
   },
   "source": [
    "# Welcome to GIS 4091/5091 - Advanced Programming for GIS"
   ]
  },
  {
   "cell_type": "markdown",
   "metadata": {
    "slideshow": {
     "slide_type": "subslide"
    }
   },
   "source": [
    "# Course Description\n"
   ]
  },
  {
   "cell_type": "markdown",
   "metadata": {
    "slideshow": {
     "slide_type": "fragment"
    }
   },
   "source": [
    "Have you ever wanted to learn how to publish, consume, and use geographic web services? Are in intrested in learning how typical desktop GIS and remote sensing workflows change when the data is shared as a web service? Do you want to learn how to create webmaps and webaps using Python, Javascript, and HTML? "
   ]
  },
  {
   "cell_type": "markdown",
   "metadata": {
    "slideshow": {
     "slide_type": "fragment"
    }
   },
   "source": [
    "After completing this course, you will understand how to do all of these things! "
   ]
  },
  {
   "cell_type": "markdown",
   "metadata": {
    "slideshow": {
     "slide_type": "subslide"
    }
   },
   "source": [
    "# Course Description\n",
    "In **Advanced Python for GIS and Remote Sensing**, students will learn how to publish, consume, and analyze web services using Python. They will be introduced to more powerful, more advanced Python libraries such as [Pandas](https://jakevdp.github.io/PythonDataScienceHandbook/03.00-introduction-to-pandas.html), [Numpy](https://jakevdp.github.io/PythonDataScienceHandbook/02.00-introduction-to-numpy.html), [ArcGIS](https://developers.arcgis.com/python/), and [Folium](https://folium.readthedocs.io/en/latest/). They will also learn how to use the [ArcGIS API for Javascript](https://developers.arcgis.com/javascript/3/) to create their first stand-alone web applications. This class builds on what students learned in [GIS 4090\\5090](https://github.com/gbrunner/Python_for_GIS_and_RS) and helps them develop knowledge and skills that they will use throughout their careers."
   ]
  },
  {
   "cell_type": "markdown",
   "metadata": {
    "slideshow": {
     "slide_type": "subslide"
    }
   },
   "source": [
    "# Course Objectives"
   ]
  },
  {
   "cell_type": "markdown",
   "metadata": {
    "slideshow": {
     "slide_type": "fragment"
    }
   },
   "source": [
    "- To teach students how to work with geogarphic web services.\n",
    "- To introduce students to modern data science methods and tools that can be used to augment their research in geography and remote sensing.\n",
    "- Encourage students to use web services, webmaps, and webapps for visualizing and contextualizing data."
   ]
  },
  {
   "cell_type": "markdown",
   "metadata": {
    "slideshow": {
     "slide_type": "subslide"
    }
   },
   "source": [
    "### In a nutshell...\n",
    "<img src=\"https://media1.tenor.com/images/c049f2a9290969871976d9a98abff2e3/tenor.gif?itemid=4621909\" alt=\"drawing\" style=\"width:120%;\"/>"
   ]
  },
  {
   "cell_type": "markdown",
   "metadata": {
    "slideshow": {
     "slide_type": "subslide"
    }
   },
   "source": [
    "# Textbooks\n",
    "## Required\n",
    "- [Python Data Science Handbook. VanderPlas, Jake. 2016.](http://shop.oreilly.com/product/0636920034919.do)\n",
    "- [Introducing ArcGIS API 4 for Javascript](https://www.amazon.com/gp/product/148423281X/ref=dbs_a_def_rwt_bibl_vppi_i1)\n",
    "## Optional\n",
    "- [Mastering Geospatial Analysis with Python](https://www.packtpub.com/application-development/mastering-geospatial-analysis-python)\n"
   ]
  },
  {
   "cell_type": "markdown",
   "metadata": {
    "slideshow": {
     "slide_type": "subslide"
    }
   },
   "source": [
    "# Python Data Science Handbook\n",
    "<img src=\"https://s3.ap-south-1.amazonaws.com/techleer/289.jpg\" alt=\"drawing\" style=\"width:50%\" align=\"middle\"/>"
   ]
  },
  {
   "cell_type": "markdown",
   "metadata": {
    "slideshow": {
     "slide_type": "subslide"
    }
   },
   "source": [
    "# Introducing ArcGIS API 4 for Javascript\n",
    "<img src=\"https://images-na.ssl-images-amazon.com/images/I/41JJEeMDbKL._SX328_BO1,204,203,200_.jpg\" alt=\"drawing\" style=\"width:25%\" align=\"middle\"/>"
   ]
  },
  {
   "cell_type": "markdown",
   "metadata": {
    "slideshow": {
     "slide_type": "subslide"
    }
   },
   "source": [
    "# Mastering Geospatial Analysis with Python\n",
    "<img src=\"data:image/jpeg;base64,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\" alt=\"drawing\" style=\"width:25%\" align=\"middle\"/>"
   ]
  },
  {
   "cell_type": "markdown",
   "metadata": {
    "slideshow": {
     "slide_type": "subslide"
    }
   },
   "source": [
    "# Course Schedule\n",
    "\n",
    "| Week    | Topics |\n",
    "|---------|--------|\n",
    "| Week 1 | Web Mapping with [Leaflet](http://leafletjs.com/) and [Github](www.github.com) ~~and [Folium](https://blog.dominodatalab.com/creating-interactive-crime-maps-with-folium/)~~\n",
    "| Week 2 | Creating GIS Applications with the ArcGIS Javascript API |\n",
    "| Week 3 | GIS Web Application and 3D Scenes |\n",
    "| Week 4 | Popups and Widgets in Webapps |"
   ]
  },
  {
   "cell_type": "markdown",
   "metadata": {
    "slideshow": {
     "slide_type": "subslide"
    }
   },
   "source": [
    "| Week    | Topics |\n",
    "|---------|--------|\n",
    "| Week 5  | [Jupyter Notebooks (IDE)](https://jupyter.org/install.html), [Intro to the ArcGIS API for Python](https://developers.arcgis.com/python/), ~~[Domino](https://app.dominodatalab.com/overview)?~~ |                 \n",
    "| Week 6  |  [Github](https://github.com/) and [Administering Your Organization](https://developers.arcgis.com/python/sample-notebooks/batch-creation-of-groups/) |\n",
    "| Week 7  | ArcGIS API for Python: [Publishing](https://developers.arcgis.com/python/sample-notebooks/publishing-sd-shapefiles-and-csv/) and [Analysis](https://developers.arcgis.com/python/sample-notebooks/chennai-floods-analysis/) |\n",
    "| Week 8  | ArcGIS API for Python: [Data Science](https://developers.arcgis.com/python/sample-notebooks/counting-features-in-satellite-images-using-scikit-image/) |\n",
    "| Week 9  | [Intro to Pandas](https://jakevdp.github.io/PythonDataScienceHandbook/03.00-introduction-to-pandas.html) and ArcGIS Spatial \n"
   ]
  },
  {
   "cell_type": "markdown",
   "metadata": {
    "slideshow": {
     "slide_type": "subslide"
    }
   },
   "source": [
    "| Week    | Topics |\n",
    "|---------|--------|\n",
    "| Week 10  | [Numpy](https://jakevdp.github.io/PythonDataScienceHandbook/02.00-introduction-to-numpy.html) and Rasters |\n",
    "| Week 11  | [Esri Raster Functions](https://github.com/Esri/raster-functions)  |\n",
    "| Week 12  | Advanced Plotting with [Matplotlib](https://jakevdp.github.io/PythonDataScienceHandbook/04.00-introduction-to-matplotlib.html) and [Seaborn](https://seaborn.pydata.org/) and [Intro to Scikit-learn](https://jakevdp.github.io/PythonDataScienceHandbook/05.02-introducing-scikit-learn.html)|\n",
    "| Week 13  | Plotting with JS by [@JWasilgeo](https://github.com/jwasilgeo): DataViz, D3, Charting |\n",
    "| Week 14  | [Scikit-learn](https://jakevdp.github.io/PythonDataScienceHandbook/05.02-introducing-scikit-learn.html) and [Multiprocessing](https://www.youtube.com/watch?v=s1SkCYMnfbY) |\n",
    "| Week 15 | Students Present Final Project |"
   ]
  },
  {
   "cell_type": "markdown",
   "metadata": {
    "slideshow": {
     "slide_type": "subslide"
    }
   },
   "source": [
    "# Assignments & Grading\n",
    "| Weight | Type |\n",
    "|--------|------|\n",
    "| 20% | Weekly Assignments |\n",
    "| 20% | Project 1 - Web Application Project |\n",
    "| 20% | Project 2 - ArcGIS Python API Project |\n",
    "| 20% | Project 3 - Data Science Notebook Project|\n",
    "| 20% | Project 4 - Student Defined Final Project |"
   ]
  },
  {
   "cell_type": "markdown",
   "metadata": {
    "slideshow": {
     "slide_type": "subslide"
    }
   },
   "source": [
    "# The course materials are on [Github](https://github.com/gbrunner/Advanced_Python_for_GIS_and_RS)"
   ]
  },
  {
   "cell_type": "markdown",
   "metadata": {
    "slideshow": {
     "slide_type": "slide"
    }
   },
   "source": [
    "# Guidelines and Recommendations"
   ]
  },
  {
   "cell_type": "markdown",
   "metadata": {
    "slideshow": {
     "slide_type": "subslide"
    }
   },
   "source": [
    "# Recommendation - Find a friend\n",
    "\n",
    "<img src=\"https://media1.tenor.com/images/444ec97d12a0860cc7e68e948fd218ad/tenor.gif?itemid=4667345\" style=\"width:40%;\"/>\n"
   ]
  },
  {
   "cell_type": "markdown",
   "metadata": {
    "slideshow": {
     "slide_type": "subslide"
    }
   },
   "source": [
    "# Recommendation - Don't be afraid to talk to each other\n",
    "\n",
    "<img src=\"https://cdn-images-1.medium.com/max/1600/1*ouLfaVEgKdA0uuz2byk0UA.gif\" style=\"width:40%;\"/>"
   ]
  },
  {
   "cell_type": "markdown",
   "metadata": {
    "slideshow": {
     "slide_type": "subslide"
    }
   },
   "source": [
    "# Guideline\\Recommendation - I don't want to be the first person you ask for help on a problem\n",
    "\n",
    "## Those of you who are really good and have a solid understanding of a topic, mentor your classmates."
   ]
  },
  {
   "cell_type": "markdown",
   "metadata": {
    "slideshow": {
     "slide_type": "subslide"
    }
   },
   "source": [
    "# Guideline - Submit your own work\n",
    "\n",
    "## Even though I want you to talk to your classmates, learn from your classmantes, learn with your classmates; I want you to submit *your* original work."
   ]
  },
  {
   "cell_type": "markdown",
   "metadata": {
    "slideshow": {
     "slide_type": "subslide"
    }
   },
   "source": [
    "# Guideline - For the weekly exercises, stop working on them at ~~6 hours~~ 8 hours and submit what you have\n",
    "<img src=\"https://media1.tenor.com/images/c18eca6482632d7d91fcc0a463bf147e/tenor.gif?itemid=7532429\" style=\"width:15%;\"/>\n",
    "\n",
    "Grades are more effected by the Projects *and* I don't know how long the weekly exercises should take you. We'll all be learning a bit this semester."
   ]
  },
  {
   "cell_type": "markdown",
   "metadata": {
    "slideshow": {
     "slide_type": "subslide"
    }
   },
   "source": [
    "# Recommendation - Constantly be assessing how this applies to your work, goals, career"
   ]
  },
  {
   "cell_type": "markdown",
   "metadata": {
    "slideshow": {
     "slide_type": "slide"
    }
   },
   "source": [
    "# Some things we'll do this semester..."
   ]
  },
  {
   "cell_type": "markdown",
   "metadata": {
    "slideshow": {
     "slide_type": "subslide"
    }
   },
   "source": [
    "# Web Applications with Javascript\n",
    "- [Basic maps](https://gbrunner.github.io/Advanced_Python_for_GIS_and_RS/Week%201/chicago_zips.html)\n",
    "- [GeoJSON](https://gbrunner.github.io/Advanced_Python_for_GIS_and_RS/Week%201/quickstart_final.html)\n",
    "- [3D Maps](https://gbrunner.github.io/Advanced_Python_for_GIS_and_RS/Week%203/world_pop_3d_w_buttons.html)\n",
    "- [Maps with Widgets](https://gbrunner.github.io/Advanced_Python_for_GIS_and_RS/Week%204/world_pop_3d_search_legend.html)"
   ]
  },
  {
   "cell_type": "markdown",
   "metadata": {
    "slideshow": {
     "slide_type": "subslide"
    }
   },
   "source": [
    "# Really Fun Python Stuff"
   ]
  },
  {
   "cell_type": "code",
   "execution_count": 7,
   "metadata": {
    "slideshow": {
     "slide_type": "subslide"
    }
   },
   "outputs": [
    {
     "name": "stdout",
     "output_type": "stream",
     "text": [
      "Enter password: ········\n"
     ]
    }
   ],
   "source": [
    "from arcgis.gis import GIS\n",
    "from arcgis.geocoding import Geocoder, get_geocoders\n",
    "\n",
    "gis = GIS(\"http://slustl.maps.arcgis.com/home\", \"gregbrunner_slugis\")"
   ]
  },
  {
   "cell_type": "code",
   "execution_count": 8,
   "metadata": {
    "slideshow": {
     "slide_type": "subslide"
    }
   },
   "outputs": [
    {
     "data": {
      "application/vnd.jupyter.widget-view+json": {
       "model_id": "465c5923a80f48ebbe786ff80ccad133",
       "version_major": 2,
       "version_minor": 0
      },
      "text/plain": [
       "MapView(basemaps=['dark-gray', 'dark-gray-vector', 'gray', 'gray-vector', 'hybrid', 'national-geographic', 'oc…"
      ]
     },
     "metadata": {},
     "output_type": "display_data"
    }
   ],
   "source": [
    "my_map = gis.map(\"Philadelphia, PA\")\n",
    "my_map"
   ]
  },
  {
   "cell_type": "markdown",
   "metadata": {
    "slideshow": {
     "slide_type": "subslide"
    }
   },
   "source": [
    "# ArcGIS Python Topics\n",
    "- Mapping\n",
    "- Geocoding\n",
    "- Services (Publishing and Using)\n",
    "- Webmaps\n",
    "- Renderers\n",
    "- Analysis\n",
    "- Spatial Data Science\n",
    "- Imagery and Rasters"
   ]
  },
  {
   "cell_type": "markdown",
   "metadata": {
    "slideshow": {
     "slide_type": "subslide"
    }
   },
   "source": [
    "# Special Topics\n",
    "- Data Visualization\n",
    "- Multiprocessing\n",
    "- Intro to Machine Learning with Scikit-Learn"
   ]
  },
  {
   "cell_type": "markdown",
   "metadata": {
    "slideshow": {
     "slide_type": "slide"
    }
   },
   "source": [
    "<img src=\"https://media1.tenor.com/images/7dcc0b5a2c64d741b6edd12a88738cf9/tenor.gif?itemid=4767352\" style=\"width:150%;\"/>"
   ]
  }
 ],
 "metadata": {
  "celltoolbar": "Slideshow",
  "kernelspec": {
   "display_name": "Python 3",
   "language": "python",
   "name": "python3"
  },
  "language_info": {
   "codemirror_mode": {
    "name": "ipython",
    "version": 3
   },
   "file_extension": ".py",
   "mimetype": "text/x-python",
   "name": "python",
   "nbconvert_exporter": "python",
   "pygments_lexer": "ipython3",
   "version": "3.6.5"
  }
 },
 "nbformat": 4,
 "nbformat_minor": 2
}
