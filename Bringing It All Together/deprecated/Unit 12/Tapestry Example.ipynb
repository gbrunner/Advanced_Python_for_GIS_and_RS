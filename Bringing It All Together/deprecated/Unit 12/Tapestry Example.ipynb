{
 "cells": [
  {
   "cell_type": "code",
   "execution_count": 1,
   "metadata": {},
   "outputs": [],
   "source": [
    "import seaborn"
   ]
  },
  {
   "cell_type": "code",
   "execution_count": 3,
   "metadata": {},
   "outputs": [],
   "source": [
    "import arcgis\n",
    "from arcgis import GIS"
   ]
  },
  {
   "cell_type": "code",
   "execution_count": 4,
   "metadata": {},
   "outputs": [],
   "source": [
    "gis = GIS(url= \"http://slustl.maps.arcgis.com/home/\", username=\"gregbrunner_slugis\" , password=\"100%BlueGatorade\")"
   ]
  },
  {
   "cell_type": "code",
   "execution_count": 5,
   "metadata": {},
   "outputs": [],
   "source": [
    "from arcgis.features import FeatureLayer"
   ]
  },
  {
   "cell_type": "code",
   "execution_count": 6,
   "metadata": {},
   "outputs": [],
   "source": [
    "fl = FeatureLayer('http://services.arcgis.com/P3ePLMYs2RVChkJx/arcgis/rest/services/Tapestry_Households/FeatureServer/1')"
   ]
  },
  {
   "cell_type": "code",
   "execution_count": null,
   "metadata": {},
   "outputs": [],
   "source": [
    "df = fl.query().df"
   ]
  },
  {
   "cell_type": "code",
   "execution_count": null,
   "metadata": {},
   "outputs": [],
   "source": [
    "df"
   ]
  },
  {
   "cell_type": "code",
   "execution_count": 8,
   "metadata": {},
   "outputs": [
    {
     "data": {
      "text/plain": [
       "0      904303\n",
       "1       44765\n",
       "2      101531\n",
       "3      123036\n",
       "4      219290\n",
       "5      520971\n",
       "6       91234\n",
       "7     4269978\n",
       "8      136386\n",
       "9       27202\n",
       "10      65567\n",
       "11     219703\n",
       "12     204537\n",
       "13     118446\n",
       "14     304378\n",
       "15     147314\n",
       "16     244013\n",
       "17     523443\n",
       "18     211467\n",
       "19     528761\n",
       "20     110263\n",
       "21     398484\n",
       "22     807179\n",
       "23     224357\n",
       "24       2736\n",
       "25      71982\n",
       "26      83204\n",
       "27     588708\n",
       "28     112911\n",
       "29     211141\n",
       "30     215583\n",
       "31     300016\n",
       "32     944714\n",
       "33     524160\n",
       "34     574117\n",
       "35     173315\n",
       "36     446841\n",
       "37     652230\n",
       "38     212030\n",
       "39      22748\n",
       "40     300577\n",
       "41      50476\n",
       "42     270107\n",
       "43     734759\n",
       "44     546345\n",
       "45    1732973\n",
       "46      44292\n",
       "47      22142\n",
       "48      10704\n",
       "49      46933\n",
       "50     138044\n",
       "Name: MARGIN, dtype: int64"
      ]
     },
     "execution_count": 8,
     "metadata": {},
     "output_type": "execute_result"
    }
   ],
   "source": [
    "df.MARGIN"
   ]
  },
  {
   "cell_type": "code",
   "execution_count": null,
   "metadata": {},
   "outputs": [],
   "source": []
  }
 ],
 "metadata": {
  "kernelspec": {
   "display_name": "Python 3",
   "language": "python",
   "name": "python3"
  }
 },
 "nbformat": 4,
 "nbformat_minor": 2
}
