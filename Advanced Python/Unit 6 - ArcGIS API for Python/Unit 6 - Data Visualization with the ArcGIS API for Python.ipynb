{
 "cells": [
  {
   "cell_type": "markdown",
   "metadata": {},
   "source": [
    "# Spatial Visualization with ArcGIS API for Python"
   ]
  },
  {
   "cell_type": "markdown",
   "metadata": {},
   "source": [
    "## arcgis.mapping module"
   ]
  },
  {
   "cell_type": "markdown",
   "metadata": {},
   "source": [
    "The arcgis.mapping module contains classes and functions to represent and interact with web maps, scenes, and certain layer types such as map image and vector tiles. In this page we will observe how to visualize maps, scenes and layers using the map widget in Jupyter notebook environment.\n",
    "\n",
    "- Setting the map properties\n",
    "    + Zoom level\n",
    "    + Map center\n",
    "    + Basemaps\n",
    "    + 3D Mode\n",
    "- Adding layers to the map\n",
    "- Adding Item objects to the map\n",
    "- Adding layer objects to the map\n",
    "- Adding Imagery layers\n",
    "- Listing and removing layers from the map\n",
    "- Graphic support\n",
    "- Saving the map as a web map"
   ]
  },
  {
   "cell_type": "markdown",
   "metadata": {},
   "source": [
    "## Creating a Map"
   ]
  },
  {
   "cell_type": "code",
   "execution_count": null,
   "metadata": {},
   "outputs": [],
   "source": [
    "from arcgis.gis import GIS\n",
    "gis = GIS()\n",
    "m = gis.map('Frankfurt, DE')\n",
    "m"
   ]
  },
  {
   "cell_type": "markdown",
   "metadata": {},
   "source": [
    "## WebMap Properties\n",
    "\n",
    "  + Zoom level\n",
    "  + Map center\n",
    "  + Basemaps\n",
    "  + 3D Mode\n",
    "  + rotation"
   ]
  },
  {
   "cell_type": "markdown",
   "metadata": {},
   "source": [
    "### Zoom Level"
   ]
  },
  {
   "cell_type": "code",
   "execution_count": null,
   "metadata": {},
   "outputs": [],
   "source": [
    "m.zoom"
   ]
  },
  {
   "cell_type": "code",
   "execution_count": null,
   "metadata": {},
   "outputs": [],
   "source": [
    "m.zoom = 15"
   ]
  },
  {
   "cell_type": "markdown",
   "metadata": {
    "heading_collapsed": true
   },
   "source": [
    "### Rotation\n",
    "\n",
    "- values are 0-360 degrees"
   ]
  },
  {
   "cell_type": "code",
   "execution_count": null,
   "metadata": {
    "hidden": true
   },
   "outputs": [],
   "source": [
    "import time\n",
    "for r in [45, 90, 180, 270, 0]:\n",
    "    m.rotation = r\n",
    "    time.sleep(3)"
   ]
  },
  {
   "cell_type": "markdown",
   "metadata": {},
   "source": [
    "### Basemaps\n",
    "\n",
    "- provide the underlying background for the web map\n",
    "- `basemaps` provides a list available basemap \n",
    "- `basemap` - get/set the background"
   ]
  },
  {
   "cell_type": "code",
   "execution_count": null,
   "metadata": {},
   "outputs": [],
   "source": [
    "m1 = gis.map('Paris') # RUN ME :) \n",
    "m1"
   ]
  },
  {
   "cell_type": "code",
   "execution_count": null,
   "metadata": {},
   "outputs": [],
   "source": [
    "for bm in m1.basemaps[::2]:\n",
    "    print(m1.basemap)\n",
    "    m1.basemap = bm\n",
    "    time.sleep(1.5)"
   ]
  },
  {
   "cell_type": "markdown",
   "metadata": {},
   "source": [
    "### 3D Mode\n",
    "\n",
    "- The map widget supports both 2D and 3D"
   ]
  },
  {
   "cell_type": "code",
   "execution_count": null,
   "metadata": {},
   "outputs": [],
   "source": [
    "m2 = gis.map('Zurich', mode='3D')\n",
    "m2.zoom = 8\n",
    "m2"
   ]
  },
  {
   "cell_type": "markdown",
   "metadata": {},
   "source": [
    "## Adding Content to the Map Widget"
   ]
  },
  {
   "cell_type": "code",
   "execution_count": null,
   "metadata": {},
   "outputs": [],
   "source": [
    "flayer_search_result = gis.content.search(\"europe owner:esri_dm\",\"Feature Layer\")\n",
    "flayer_search_result"
   ]
  },
  {
   "cell_type": "markdown",
   "metadata": {},
   "source": [
    "#### Adding by Item\n",
    "\n",
    "- Data can be displayed on the webmap using Item\n",
    "- This supports: Feature Layer, Imagery Services and other."
   ]
  },
  {
   "cell_type": "code",
   "execution_count": null,
   "metadata": {},
   "outputs": [],
   "source": [
    "m3 = gis.map('Netherlands')\n",
    "m3.zoom = 7\n",
    "m3"
   ]
  },
  {
   "cell_type": "code",
   "execution_count": null,
   "metadata": {},
   "outputs": [],
   "source": [
    "m3.add_layer(flayer_search_result[0])"
   ]
  },
  {
   "cell_type": "code",
   "execution_count": null,
   "metadata": {},
   "outputs": [],
   "source": [
    "img_items = gis.content.get(\"e7e530e0067d47c7b3478d44518b563e\")\n",
    "img_items"
   ]
  },
  {
   "cell_type": "code",
   "execution_count": null,
   "metadata": {},
   "outputs": [],
   "source": [
    "m3.add_layer(img_items)"
   ]
  },
  {
   "cell_type": "code",
   "execution_count": null,
   "metadata": {},
   "outputs": [],
   "source": [
    "m3.remove_layers()"
   ]
  },
  {
   "cell_type": "markdown",
   "metadata": {},
   "source": [
    "#### Adding by Layer"
   ]
  },
  {
   "cell_type": "code",
   "execution_count": null,
   "metadata": {},
   "outputs": [],
   "source": [
    "m4 = gis.map(\"Netherlandas\")\n",
    "m4.zoom = 7\n",
    "m4"
   ]
  },
  {
   "cell_type": "code",
   "execution_count": null,
   "metadata": {},
   "outputs": [],
   "source": [
    "img_items.layers"
   ]
  },
  {
   "cell_type": "code",
   "execution_count": null,
   "metadata": {},
   "outputs": [],
   "source": [
    "m4.add_layer(img_items.layers[0])"
   ]
  },
  {
   "cell_type": "markdown",
   "metadata": {},
   "source": [
    "#### Adding a Spatially enabled DataFrame"
   ]
  },
  {
   "cell_type": "code",
   "execution_count": null,
   "metadata": {},
   "outputs": [],
   "source": [
    "item = gis.content.get(\"6996f03a1b364dbab4008d99380370ed\")\n",
    "sdf = item.layers[0].query(as_df=True)"
   ]
  },
  {
   "cell_type": "code",
   "execution_count": null,
   "metadata": {},
   "outputs": [],
   "source": [
    "sdf.head()"
   ]
  },
  {
   "cell_type": "code",
   "execution_count": null,
   "metadata": {},
   "outputs": [],
   "source": [
    "sdf.spatial.plot(map_widget=m4)"
   ]
  },
  {
   "cell_type": "markdown",
   "metadata": {},
   "source": [
    "## Cartography using the ArcGIS API from Python"
   ]
  },
  {
   "cell_type": "markdown",
   "metadata": {},
   "source": [
    "### Smart Mapping"
   ]
  },
  {
   "cell_type": "markdown",
   "metadata": {},
   "source": [
    "- process of creating maps with ease\n",
    "- uses algorithms to auto generate the best cartography"
   ]
  },
  {
   "cell_type": "code",
   "execution_count": null,
   "metadata": {},
   "outputs": [],
   "source": [
    "freeway_item = gis.content.get('91c6a5f6410b4991ab0db1d7c26daacb')\n",
    "freeway_item"
   ]
  },
  {
   "cell_type": "code",
   "execution_count": null,
   "metadata": {},
   "outputs": [],
   "source": [
    "m5 = gis.map(\"Los Angles, CA\")\n",
    "m5"
   ]
  },
  {
   "cell_type": "code",
   "execution_count": null,
   "metadata": {},
   "outputs": [],
   "source": [
    "m5.center = [34, -118]\n",
    "#m5.zoom = 11\n",
    "m5.add_layer(freeway_item, {\"renderer\":\"ClassedSizeRenderer\", \"field_name\": \"DIST_MILES\"})"
   ]
  },
  {
   "cell_type": "markdown",
   "metadata": {},
   "source": [
    "#### Visualize by Field\n"
   ]
  },
  {
   "cell_type": "code",
   "execution_count": null,
   "metadata": {},
   "outputs": [],
   "source": [
    "m6 = gis.map('Washington State')\n",
    "m6"
   ]
  },
  {
   "cell_type": "code",
   "execution_count": null,
   "metadata": {},
   "outputs": [],
   "source": [
    "m6.add_layer({\"type\":\"FeatureLayer\", \n",
    "               \"url\":\"http://sampleserver6.arcgisonline.com/arcgis/rest/services/Census/MapServer/2\",\n",
    "               \"definition_expression\" : \"STATE_NAME='Washington'\",\n",
    "               \"renderer\":\"ClassedColorRenderer\",\n",
    "               \"field_name\":\"POP2007\",\n",
    "               \"opacity\":0.7})"
   ]
  },
  {
   "cell_type": "code",
   "execution_count": null,
   "metadata": {},
   "outputs": [],
   "source": [
    "m6.legend = True"
   ]
  },
  {
   "cell_type": "markdown",
   "metadata": {},
   "source": [
    "### Advanced Cartography"
   ]
  },
  {
   "cell_type": "markdown",
   "metadata": {},
   "source": [
    "#### Compare A to B\n",
    "\n",
    "- Renderers can compare two values"
   ]
  },
  {
   "cell_type": "code",
   "execution_count": null,
   "metadata": {},
   "outputs": [],
   "source": [
    "from arcgis.features import FeatureLayer\n",
    "\n",
    "map4 = gis.map(\"France\", 2)\n",
    "\n",
    "map4_renderer = {\"renderer\": \"autocast\", #This tells python to use JS autocasting\n",
    "                 \"type\": \"classBreaks\",  \n",
    "                 \"field\":\"POP2025\",\n",
    "                 \"transparency\":80,\n",
    "                 \"minValue\":-9007199254740991}\n",
    "\n",
    "map4_renderer[\"visualVariables\"] = [{   \"type\": \"colorInfo\",\n",
    "                                        \"field\": \"POP2025\",\n",
    "                                        \"normalizationField\": \"POP2015\",\n",
    "                                        \"stops\": [\n",
    "                                            {   \"value\": 1.12,\n",
    "                                                \"color\": [230,97,1,255],\n",
    "                                                \"label\": \"< 112%\"\n",
    "                                            },\n",
    "                                            {   \"value\": 1.1800000000000002,\n",
    "                                                \"color\": [253,184,99,255],\n",
    "                                                \"label\": \"112% ~ 124%\"\n",
    "                                            },\n",
    "                                            {   \"value\": 1.24,\n",
    "                                                \"color\": [247,247,247,255],\n",
    "                                                \"label\": \"124%\"\n",
    "                                            },\n",
    "                                            {   \"value\": 1.3,\n",
    "                                                \"color\": [178,171,210,255],\n",
    "                                                \"label\": \"124% ~ 136%\"\n",
    "                                            },\n",
    "                                            {   \"value\": 1.36,\n",
    "                                                \"color\": [94,60,153,255],\n",
    "                                                \"label\": \"> 136%\"\n",
    "                                            }]\n",
    "                                    }]\n",
    "\n",
    "map4_renderer[\"classBreakInfos\"] = [{   \"symbol\": {\n",
    "                                            \"color\": [170,170,170,255],\n",
    "                                            \"size\": 10.5,\n",
    "                                            \"angle\": 0,\n",
    "                                            \"xoffset\": 0,\n",
    "                                            \"yoffset\": 0,\n",
    "                                            \"type\": \"esriSMS\",\n",
    "                                            \"style\": \"esriSMSCircle\",\n",
    "                                            \"outline\": {\n",
    "                                                \"color\": [153,153,153,255],\n",
    "                                                \"width\": 0.375,\n",
    "                                                \"type\": \"esriSLS\",\n",
    "                                                \"style\": \"esriSLSSolid\"\n",
    "                                            }\n",
    "                                        },\n",
    "                                        \"classMaxValue\": 9007199254740991\n",
    "                                    }]\n",
    "\n",
    "world_flayer = FeatureLayer(\"http://services.arcgis.com/nGt4QxSblgDfeJn9/arcgis/rest/services/World_LargestUrbanAreas_fs/FeatureServer/0\")\n",
    "\n",
    "map4.add_layer(world_flayer,\n",
    "               { \"type\": \"FeatureLayer\",\n",
    "                 \"renderer\": map4_renderer,\n",
    "                 \"field_name\":\"POP2025\",\n",
    "                 \"normalizationType\": \"esriNormalizeByField\",\n",
    "                 \"normalizationField\": \"POP2015\"})\n",
    "\n",
    "map4"
   ]
  },
  {
   "cell_type": "code",
   "execution_count": null,
   "metadata": {},
   "outputs": [],
   "source": [
    "map4.legend = True"
   ]
  },
  {
   "cell_type": "markdown",
   "metadata": {},
   "source": [
    "#### Render on Numeric Attribute\n"
   ]
  },
  {
   "cell_type": "code",
   "execution_count": null,
   "metadata": {},
   "outputs": [],
   "source": [
    "from arcgis.features import FeatureLayer\n",
    "usa_flayer = FeatureLayer(\"https://services.arcgis.com/V6ZHFr6zdgNZuVG0/arcgis/rest/services/USA_County_Crops_2007/FeatureServer/0\")\n",
    "map1 = gis.map()\n",
    "map1.center = [38.32016202887768, -94.49274418999963]\n",
    "map1.zoom = 4\n",
    "map1.add_layer(usa_flayer, { \"type\": \"FeatureLayer\",\n",
    "                             \"renderer\":\"ClassedColorRenderer\",\n",
    "                             \"field_name\":\"M086_07\"})\n",
    "map1"
   ]
  },
  {
   "cell_type": "markdown",
   "metadata": {},
   "source": [
    "### Rendering Spatially enabled DataFrame"
   ]
  },
  {
   "cell_type": "markdown",
   "metadata": {},
   "source": [
    "The Spatially Enabled Dataframe has a plot() method that uses a syntax and symbology similar to matplotlib for visualizing features on a map. With this functionality, you can easily visualize aspects of your data both on a map and on a matplotlib chart using the same symbology!\n",
    "\n",
    "Some unique characteristics of working with the visualization capabalities on the SDF:\n",
    "\n",
    "    - Uses Pythonic syntax\n",
    "    - Uses the same syntax as visualizing charts on Pandas DataFrames\n",
    "    - Uses symbology familiar to users of matplotlib\n",
    "    - Works on features and attributes simultaneously, eliminating to a great extent the need to iterate over all features (rows)\n",
    "    - Handles reading and writing to multiple formats aiding data conversion\n",
    "    "
   ]
  },
  {
   "cell_type": "markdown",
   "metadata": {},
   "source": [
    "<style type=\"text/css\">\n",
    ".tg  {border-collapse:collapse;border-spacing:0;}\n",
    ".tg td{font-family:Arial, sans-serif;font-size:14px;padding:10px 5px;border-style:solid;border-width:1px;overflow:hidden;word-break:normal;border-color:black;}\n",
    ".tg th{font-family:Arial, sans-serif;font-size:14px;font-weight:normal;padding:10px 5px;border-style:solid;border-width:1px;overflow:hidden;word-break:normal;border-color:black;}\n",
    ".tg .tg-1wig{font-weight:bold;text-align:left;vertical-align:top}\n",
    ".tg .tg-fymr{font-weight:bold;border-color:inherit;text-align:left;vertical-align:top}\n",
    ".tg .tg-0pky{border-color:inherit;text-align:left;vertical-align:top}\n",
    ".tg .tg-0lax{text-align:left;vertical-align:top}\n",
    "</style>\n",
    "<table class=\"tg\">\n",
    "  <tr>\n",
    "    <th class=\"tg-fymr\">Renderer</th>\n",
    "    <th class=\"tg-1wig\">Syntax</th>\n",
    "    <th class=\"tg-1wig\">Explanition</th>\n",
    "  </tr>\n",
    "  <tr>\n",
    "    <td class=\"tg-0pky\">Simple</td>\n",
    "    <td class=\"tg-0lax\">'s'</td>\n",
    "    <td class=\"tg-0lax\">renders using one symbol only</td>\n",
    "  </tr>\n",
    "  <tr>\n",
    "    <td class=\"tg-0pky\">Unique</td>\n",
    "    <td class=\"tg-0lax\">'u'</td>\n",
    "    <td class=\"tg-0lax\">renders each unique value with different symbol</td>\n",
    "  </tr>\n",
    "  <tr>\n",
    "    <td class=\"tg-0lax\">Unique</td>\n",
    "    <td class=\"tg-0lax\">'u-a'</td>\n",
    "    <td class=\"tg-0lax\">renders each unique value with a different symbol using an arcade expression</td>\n",
    "  </tr>\n",
    "  <tr>\n",
    "    <td class=\"tg-0lax\">Class Breaks</td>\n",
    "    <td class=\"tg-0lax\">'c'</td>\n",
    "    <td class=\"tg-0lax\">renders each group of values with a different color or size</td>\n",
    "  </tr>\n",
    "  <tr>\n",
    "    <td class=\"tg-0lax\">Heatmap</td>\n",
    "    <td class=\"tg-0lax\">'h'</td>\n",
    "    <td class=\"tg-0lax\">renders density of point data as a raster </td>\n",
    "  </tr>\n",
    "</table>"
   ]
  },
  {
   "cell_type": "markdown",
   "metadata": {},
   "source": [
    "#### Obtain Test Data"
   ]
  },
  {
   "cell_type": "code",
   "execution_count": null,
   "metadata": {},
   "outputs": [],
   "source": [
    "from arcgis.gis import GIS\n",
    "item = gis.content.get(\"85d0ca4ea1ca4b9abf0c51b9bd34de2e\")\n",
    "flayer = item.layers[0]\n",
    "sdf = flayer.query(where=\"AGE_45_54 < 1500\", as_df=True)\n",
    "sdf.head()"
   ]
  },
  {
   "cell_type": "markdown",
   "metadata": {},
   "source": [
    "#### Unique Renderer"
   ]
  },
  {
   "cell_type": "code",
   "execution_count": null,
   "metadata": {},
   "outputs": [],
   "source": [
    "gis = GIS()\n",
    "map4a = gis.map('Reno, NV', zoomlevel=4)\n",
    "map4a.center = [38.365564106215935, -94.14943750000482]\n",
    "map4a"
   ]
  },
  {
   "cell_type": "code",
   "execution_count": null,
   "metadata": {},
   "outputs": [],
   "source": [
    "sdf.spatial.plot(map_widget=map4a,\n",
    "                renderer_type='u',\n",
    "                col='ST')"
   ]
  },
  {
   "cell_type": "markdown",
   "metadata": {},
   "source": [
    "#### Simple Renderer"
   ]
  },
  {
   "cell_type": "code",
   "execution_count": null,
   "metadata": {},
   "outputs": [],
   "source": [
    "sdf.spatial.plot(symbol_type='simple',\n",
    "                 symbol_style='d', # d - for diamonds\n",
    "                 colors='Reds_r',\n",
    "                 cstep=10,\n",
    "                 outline_color='Blues',\n",
    "                 marker_size=10)"
   ]
  },
  {
   "cell_type": "markdown",
   "metadata": {},
   "source": [
    "#### Classbreak Renderer"
   ]
  },
  {
   "cell_type": "code",
   "execution_count": null,
   "metadata": {},
   "outputs": [],
   "source": [
    "sdf.spatial.plot(renderer_type='c',  # for class breaks renderer\n",
    "                 class_count=20,  \n",
    "                 col='POPULATION',\n",
    "                 cmap='prism',\n",
    "                 alpha=0.7)"
   ]
  },
  {
   "cell_type": "markdown",
   "metadata": {},
   "source": [
    "#### Understanding Colormaps\n",
    "\n",
    "- The display_colormaps function provides a quick, easy way to visualize the pre-defined set of colormaps you can use."
   ]
  },
  {
   "cell_type": "code",
   "execution_count": null,
   "metadata": {},
   "outputs": [],
   "source": [
    "from arcgis.mapping import display_colormaps\n",
    "display_colormaps()"
   ]
  },
  {
   "cell_type": "code",
   "execution_count": null,
   "metadata": {},
   "outputs": [],
   "source": [
    "from arcgis.mapping import symbol\n",
    "\n",
    "colormaps = symbol.ALLOWED_CMAPS\n",
    "for a,b,c,d,e in zip(colormaps[::5], colormaps[1::5], colormaps[2::5], colormaps[3::5], colormaps[4::5]):\n",
    "    print(\"{:<20}{:<20}{:<20}{:<20}{:<}\".format(a,b,c,d,e))"
   ]
  },
  {
   "cell_type": "code",
   "execution_count": null,
   "metadata": {},
   "outputs": [],
   "source": [
    "from arcgis.mapping import symbol\n",
    "symbol.create_symbol?"
   ]
  }
 ],
 "metadata": {
  "kernelspec": {
   "display_name": "Python 3",
   "language": "python",
   "name": "python3"
  },
  "language_info": {
   "codemirror_mode": {
    "name": "ipython",
    "version": 3
   },
   "file_extension": ".py",
   "mimetype": "text/x-python",
   "name": "python",
   "nbconvert_exporter": "python",
   "pygments_lexer": "ipython3",
   "version": "3.6.10"
  }
 },
 "nbformat": 4,
 "nbformat_minor": 2
}
