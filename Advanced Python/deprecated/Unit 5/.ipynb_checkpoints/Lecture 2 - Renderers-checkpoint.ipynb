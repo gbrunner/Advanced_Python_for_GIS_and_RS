{
 "cells": [
  {
   "cell_type": "markdown",
   "metadata": {},
   "source": [
    "# Map renderers\n",
    "\n",
    "## Renderers"
   ]
  },
  {
   "cell_type": "code",
   "execution_count": 1,
   "metadata": {},
   "outputs": [],
   "source": [
    "simple_renderer = {\n",
    "  \"renderer\": {\n",
    "    \"type\": \"simple\",\n",
    "    \"symbol\": {\n",
    "      \"color\": [\n",
    "        0,\n",
    "        0,\n",
    "        128,\n",
    "        128\n",
    "      ],\n",
    "      \"size\": 15,\n",
    "      \"angle\": 0,\n",
    "      \"xoffset\": 0,\n",
    "      \"yoffset\": 0,\n",
    "      \"type\": \"esriSMS\",\n",
    "      \"style\": \"esriSMSCircle\",\n",
    "      \"outline\": {\n",
    "        \"color\": [\n",
    "          0,\n",
    "          0,\n",
    "          128,\n",
    "          255\n",
    "        ],\n",
    "        \"width\": 0.99975,\n",
    "        \"type\": \"esriSLS\",\n",
    "        \"style\": \"esriSLSSolid\"\n",
    "      }\n",
    "    }\n",
    "  }\n",
    "}"
   ]
  },
  {
   "cell_type": "code",
   "execution_count": 2,
   "metadata": {},
   "outputs": [],
   "source": [
    "heatmap_renderer = {\"renderer\":\"HeatmapRenderer\", \"opacity\": 0.75}\n",
    "\n",
    "#heatmap_renderer = {\n",
    "#  \"renderer\": {\n",
    "#    \"type\": \"heatmap\",\n",
    "#    \"blurRadius\": 10,\n",
    "#    \"colorStops\": [\n",
    "#      {\n",
    "#        \"ratio\": 0,\n",
    "#        \"color\": [\n",
    "#          133,\n",
    "#          193,\n",
    "#          200,\n",
    "#          0\n",
    "#        ]\n",
    "#      },\n",
    "#      {\n",
    "#        \"ratio\": 0.01,\n",
    "#        \"color\": [\n",
    "#          133,\n",
    "#          193,\n",
    "#          200,\n",
    "#          0\n",
    "#        ]\n",
    "#      }\n",
    "#    ],\n",
    "#    \"maxPixelIntensity\": 1249.2897582229123,\n",
    "#    \"minPixelIntensity\": 0\n",
    "#  }\n",
    "#}"
   ]
  },
  {
   "cell_type": "code",
   "execution_count": 3,
   "metadata": {},
   "outputs": [],
   "source": [
    "classed_size_renderer = { \"renderer\": \"ClassedSizeRenderer\", \"field_name\":\"FATALITIES\"}"
   ]
  },
  {
   "cell_type": "code",
   "execution_count": 4,
   "metadata": {},
   "outputs": [],
   "source": [
    "classed_color_renderer = {\"renderer\":\"ClassedColorRenderer\",\"field_name\": \"FATALITIES\"}"
   ]
  },
  {
   "cell_type": "markdown",
   "metadata": {},
   "source": [
    "## Let's apply some renderers "
   ]
  },
  {
   "cell_type": "code",
   "execution_count": 5,
   "metadata": {},
   "outputs": [
    {
     "name": "stdout",
     "output_type": "stream",
     "text": [
      "Enter password: ········\n"
     ]
    }
   ],
   "source": [
    "from arcgis.gis import GIS\n",
    "\n",
    "gis = GIS(\"http://slustl.maps.arcgis.com/home\", \"gregbrunner_slugis\")"
   ]
  },
  {
   "cell_type": "code",
   "execution_count": 6,
   "metadata": {},
   "outputs": [],
   "source": [
    "from arcgis.features import FeatureLayer\n",
    "\n",
    "fl = FeatureLayer(url='https://services2.arcgis.com/bB9Y1bGKerz1PTl5/arcgis/rest/services/my_acled_demo/FeatureServer/0', gis=gis)"
   ]
  },
  {
   "cell_type": "markdown",
   "metadata": {},
   "source": [
    "## Default Feature Service renderer"
   ]
  },
  {
   "cell_type": "code",
   "execution_count": 7,
   "metadata": {},
   "outputs": [
    {
     "data": {
      "application/vnd.jupyter.widget-view+json": {
       "model_id": "3f26c89e19ce41e28ce1b6a4b327061d",
       "version_major": 2,
       "version_minor": 0
      },
      "text/plain": [
       "MapView(basemaps=['dark-gray', 'dark-gray-vector', 'gray', 'gray-vector', 'hybrid', 'national-geographic', 'oc…"
      ]
     },
     "metadata": {},
     "output_type": "display_data"
    }
   ],
   "source": [
    "map1 = gis.map('Madagascar')\n",
    "map1"
   ]
  },
  {
   "cell_type": "code",
   "execution_count": 8,
   "metadata": {},
   "outputs": [],
   "source": [
    "map1.add_layer(fl)"
   ]
  },
  {
   "cell_type": "markdown",
   "metadata": {},
   "source": [
    "## Heatmap Renderer"
   ]
  },
  {
   "cell_type": "code",
   "execution_count": 9,
   "metadata": {},
   "outputs": [
    {
     "data": {
      "application/vnd.jupyter.widget-view+json": {
       "model_id": "e0d45e63ccfd406fbd00d687415d24e3",
       "version_major": 2,
       "version_minor": 0
      },
      "text/plain": [
       "MapView(basemaps=['dark-gray', 'dark-gray-vector', 'gray', 'gray-vector', 'hybrid', 'national-geographic', 'oc…"
      ]
     },
     "metadata": {},
     "output_type": "display_data"
    }
   ],
   "source": [
    "map2= gis.map('Madagascar')\n",
    "map2"
   ]
  },
  {
   "cell_type": "code",
   "execution_count": 10,
   "metadata": {},
   "outputs": [],
   "source": [
    "map2.add_layer(fl, heatmap_renderer)"
   ]
  },
  {
   "cell_type": "markdown",
   "metadata": {},
   "source": [
    "## Simple Renderer"
   ]
  },
  {
   "cell_type": "code",
   "execution_count": 11,
   "metadata": {},
   "outputs": [
    {
     "data": {
      "application/vnd.jupyter.widget-view+json": {
       "model_id": "0e0ae40ccdd543b3b8949b7cb46548d9",
       "version_major": 2,
       "version_minor": 0
      },
      "text/plain": [
       "MapView(basemaps=['dark-gray', 'dark-gray-vector', 'gray', 'gray-vector', 'hybrid', 'national-geographic', 'oc…"
      ]
     },
     "metadata": {},
     "output_type": "display_data"
    }
   ],
   "source": [
    "map3= gis.map('Madagascar')\n",
    "map3"
   ]
  },
  {
   "cell_type": "code",
   "execution_count": 12,
   "metadata": {},
   "outputs": [],
   "source": [
    "map3.add_layer(fl, simple_renderer)"
   ]
  },
  {
   "cell_type": "markdown",
   "metadata": {},
   "source": [
    "## Classed Color renderer"
   ]
  },
  {
   "cell_type": "code",
   "execution_count": 13,
   "metadata": {},
   "outputs": [
    {
     "data": {
      "application/vnd.jupyter.widget-view+json": {
       "model_id": "a5eab6fc3f6a48418296ec58bf183fd2",
       "version_major": 2,
       "version_minor": 0
      },
      "text/plain": [
       "MapView(basemaps=['dark-gray', 'dark-gray-vector', 'gray', 'gray-vector', 'hybrid', 'national-geographic', 'oc…"
      ]
     },
     "metadata": {},
     "output_type": "display_data"
    }
   ],
   "source": [
    "map4= gis.map('Madagascar')\n",
    "map4"
   ]
  },
  {
   "cell_type": "code",
   "execution_count": 14,
   "metadata": {},
   "outputs": [],
   "source": [
    "map4.add_layer(fl, classed_color_renderer)"
   ]
  },
  {
   "cell_type": "markdown",
   "metadata": {},
   "source": [
    "## Classed Size Renderer"
   ]
  },
  {
   "cell_type": "code",
   "execution_count": 15,
   "metadata": {},
   "outputs": [
    {
     "data": {
      "application/vnd.jupyter.widget-view+json": {
       "model_id": "ff8cc167b9c64d36a8775c1e2829a0d2",
       "version_major": 2,
       "version_minor": 0
      },
      "text/plain": [
       "MapView(basemaps=['dark-gray', 'dark-gray-vector', 'gray', 'gray-vector', 'hybrid', 'national-geographic', 'oc…"
      ]
     },
     "metadata": {},
     "output_type": "display_data"
    }
   ],
   "source": [
    "map5= gis.map('Madagascar')\n",
    "map5"
   ]
  },
  {
   "cell_type": "code",
   "execution_count": 16,
   "metadata": {},
   "outputs": [],
   "source": [
    "map5.add_layer(fl, classed_size_renderer)"
   ]
  },
  {
   "cell_type": "code",
   "execution_count": null,
   "metadata": {},
   "outputs": [],
   "source": []
  }
 ],
 "metadata": {
  "kernelspec": {
   "display_name": "Python 3",
   "language": "python",
   "name": "python3"
  },
  "language_info": {
   "codemirror_mode": {
    "name": "ipython",
    "version": 3
   },
   "file_extension": ".py",
   "mimetype": "text/x-python",
   "name": "python",
   "nbconvert_exporter": "python",
   "pygments_lexer": "ipython3",
   "version": "3.6.5"
  }
 },
 "nbformat": 4,
 "nbformat_minor": 2
}
